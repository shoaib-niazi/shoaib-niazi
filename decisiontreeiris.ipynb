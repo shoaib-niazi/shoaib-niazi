{
 "cells": [
  {
   "cell_type": "code",
   "execution_count": 1,
   "id": "eddae477-eb9e-48a5-b1f9-570f3b5d8018",
   "metadata": {},
   "outputs": [],
   "source": [
    "import numpy as np\n",
    "import pandas as pd\n",
    "from sklearn.model_selection import train_test_split\n",
    "from sklearn.datasets import load_iris\n",
    "\n"
   ]
  },
  {
   "cell_type": "code",
   "execution_count": 2,
   "id": "972ed0f5-aed4-47e7-8033-9d95ea896652",
   "metadata": {},
   "outputs": [],
   "source": [
    "dataset=load_iris()\n",
    "x=dataset.data\n",
    "y=dataset.target"
   ]
  },
  {
   "cell_type": "code",
   "execution_count": 3,
   "id": "3b13184d-cd81-4744-a568-096a031e5fa3",
   "metadata": {},
   "outputs": [],
   "source": [
    "x_train,x_test,y_train,y_test=train_test_split(x,y,test_size=0.2)"
   ]
  },
  {
   "cell_type": "code",
   "execution_count": 4,
   "id": "0dc8bb29-790e-4529-a1ce-4b9b28e32930",
   "metadata": {},
   "outputs": [],
   "source": [
    "# making a function to calculate the the entropy\n",
    "def calculate_entropy(y):\n",
    "  classes=np.unique(y)\n",
    "  entropy=0\n",
    "  for i in classes:\n",
    "    p=np.sum(y==i)/ len(y)\n",
    "    entropy+=-p*np.log2(p)\n",
    "  return entropy"
   ]
  },
  {
   "cell_type": "code",
   "execution_count": 5,
   "id": "2903a429-98ac-4691-9c91-adb152f8aa83",
   "metadata": {},
   "outputs": [],
   "source": [
    "# Now calculating the information gain\n",
    "def calculate_information_gain(x,y,feature,threshold):\n",
    "  parent_entropy=calculate_entropy(y)\n",
    "  left_indices=x[:,feature]<=threshold\n",
    "  right_indices=x[:,feature]>threshold\n",
    "  left_entropy=calculate_entropy(y[left_indices])\n",
    "  right_entropy=calculate_entropy(y[right_indices])\n",
    "  left_weight=len(y[left_indices])/len(y)\n",
    "  right_weight=len(y[right_indices])/len(y)\n",
    "  return parent_entropy-(left_weight*left_entropy+right_weight*right_entropy)\n",
    "  \n",
    "  "
   ]
  },
  {
   "cell_type": "code",
   "execution_count": 6,
   "id": "0fb3646e-4c02-40fe-89f4-d9ba639cf029",
   "metadata": {},
   "outputs": [],
   "source": [
    "class Decision_tree:\n",
    "  def __init__(self,max_depth=None):\n",
    "    self.max_depth=max_depth\n",
    "    self.tree=None\n",
    "  def fit(self,x,y):\n",
    "    self.tree=self.build_tree(x,y,depth=0)\n",
    "  def build_tree(self,x,y,depth):\n",
    "    if depth==self.max_depth or len(np.unique(y))==1:\n",
    "      return np.bincount(y).argmax()\n",
    "    best_feature=None\n",
    "    best_threshold=None\n",
    "    best_information_gain=-np.inf\n",
    "    for feature in range(x.shape[1]):\n",
    "      thresholds=np.unique(x[:,feature])\n",
    "      for threshold in thresholds:\n",
    "        information_gain=calculate_information_gain(x,y,feature,threshold)\n",
    "        if information_gain>best_information_gain:\n",
    "          best_feature=feature\n",
    "          best_threshold=threshold\n",
    "          best_information_gain=information_gain\n",
    "    left_indices=x[:,best_feature]<=best_threshold\n",
    "    right_indices=x[:,best_feature]>best_threshold\n",
    "    if best_information_gain > 0 and (self.max_depth is None or depth < self.max_depth):\n",
    "      left_subtree=self.build_tree(x[left_indices],y[left_indices],depth+1)\n",
    "      right_subtree=self.build_tree(x[right_indices],y[right_indices],depth+1)\n",
    "      return {'feature':best_feature,'threshold':best_threshold,'left':left_subtree,'right':right_subtree}\n",
    "    else:\n",
    "      return np.bincount(y).argmax()\n",
    "  def predict(self,x):\n",
    "    return np.array([self.traverse_tree(x_i,self.tree) for x_i in x])\n",
    "  def traverse_tree(self,inputs,node):\n",
    "    while isinstance(node, dict) and 'feature' in node:\n",
    "      if inputs[node['feature']]<=node['threshold']:\n",
    "        node=node['left']\n",
    "      else:\n",
    "        node=node['right']\n",
    "    return node"
   ]
  },
  {
   "cell_type": "code",
   "execution_count": 7,
   "id": "512fb555-1384-42fa-8f68-e6c52c7e0911",
   "metadata": {},
   "outputs": [
    {
     "name": "stdout",
     "output_type": "stream",
     "text": [
      "Accuracy: 0.9\n"
     ]
    }
   ],
   "source": [
    "# training and evaluating decision Tree\n",
    "tree=Decision_tree()\n",
    "tree.fit(x_train, y_train)\n",
    "y_pred=tree.predict(x_test)\n",
    "accuracy=np.sum(y_pred == y_test)/len(y_test)\n",
    "print(\"Accuracy:\", accuracy)"
   ]
  }
 ],
 "metadata": {
  "kernelspec": {
   "display_name": "Python 3 (ipykernel)",
   "language": "python",
   "name": "python3"
  },
  "language_info": {
   "codemirror_mode": {
    "name": "ipython",
    "version": 3
   },
   "file_extension": ".py",
   "mimetype": "text/x-python",
   "name": "python",
   "nbconvert_exporter": "python",
   "pygments_lexer": "ipython3",
   "version": "3.12.5"
  }
 },
 "nbformat": 4,
 "nbformat_minor": 5
}
